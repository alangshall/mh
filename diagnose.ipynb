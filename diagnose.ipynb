{
 "cells": [
  {
   "cell_type": "markdown",
   "metadata": {},
   "source": [
    "#### Cognitive\n",
    "* Is my brain spirialing on something?\n",
    "* Am I blocked and can't figure out how to get around it?\n",
    "#### Emotional \n",
    "* How am I feeling about things right now?\n",
    "* If I was poked just right, would I cry?\n",
    "* Am I picking up on / feeling / reacting to other people's strong emotions?\n",
    "  * Does the feeling even belong to me?\n",
    "#### Gastrointestinal \n",
    "* How's my stomach? Does it need something? Is it upset?\n",
    "* Did I take my omeprazole?\n",
    "* Do I need probiotics? Yogurt? Something fermented (veggies, sourdough, etc)?\n",
    "#### Endocrine\n",
    "* How close to my HRT dose is it?\n",
    "* Could this be cycle related?\n",
    "* Is anyone else in my house having their cycle?\n",
    "#### Sartorical (clothing) \n",
    "* Am I happy with what I'm wearing?\n",
    "* Could I change something and then be happier about it?\n",
    "#### Physical Plant (the body) \n",
    "* Am I fed? \n",
    "* Do I need water?\n",
    "* Do I need to get up and move about?\n",
    "* Am I getting enough Vitamin D?\n",
    "* Do I need physical contact?\n",
    "#### Social\n",
    "* Am I underpeopled?\n",
    "* Am I overpeopled?\n",
    "* Do I feel alone?\n",
    "* Do I feel too much together?\n",
    "* Do I need to know that I am loved?\n",
    "#### Belief\n",
    "* Am I searching for meaning?\n",
    "* Am I feeling crushed by capitalism?\n",
    "* Am I feeling a need to connect with the divine?\n",
    "#### Meta\n",
    "* After running through this list, is it the wrong diagnostic?\n",
    "  * Am I doing okay? Go look at [the list on the fridge](https://depts.washington.edu/fammed/wp-content/uploads/2019/03/Katers-selfcare_printable.pdf)?\n",
    "  * Consider checking Kate Bornstein's _Hello Cruel World_\n",
    "* Do I need to consult an oracle?\n",
    "  * One card draw?\n",
    "    * Shortcut: [Daily Tarot Draw](https://www.dailytarotdraw.com/card-deck)\n",
    "  * Three card reading?\n",
    "    * Shortcut: Quick reading from [Madam Adam](https://www.tiktok.com/@officialmadamadam?lang=en)\n",
    "  * I Ching? \n",
    "    * Three coin method\n",
    "    * Sticks / Yarrow\n",
    "* Ask others in my household, close friends, or other people who know me what they think is going on."
   ]
  },
  {
   "cell_type": "markdown",
   "metadata": {},
   "source": []
  }
 ],
 "metadata": {
  "language_info": {
   "name": "python"
  }
 },
 "nbformat": 4,
 "nbformat_minor": 2
}
